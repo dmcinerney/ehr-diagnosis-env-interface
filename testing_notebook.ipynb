{
 "cells": [
  {
   "cell_type": "code",
   "execution_count": null,
   "metadata": {},
   "outputs": [],
   "source": [
    "import matploblit.pyplot as plt\n",
    "import seaborn as sns\n",
    "xs = ['x', 'y', 'z']\n",
    "ys = [.1, .4, .3]\n",
    "fig, ax = plt.subplots(1, 1, figsize=(3, len(xs)))\n",
    "chart = sns.barplot(x=xs, y=ys, ax=ax)\n",
    "chart.set_ylim([0, 1])"
   ]
  },
  {
   "cell_type": "code",
   "execution_count": null,
   "metadata": {},
   "outputs": [],
   "source": []
  }
 ],
 "metadata": {
  "kernelspec": {
   "display_name": "Python 3",
   "language": "python",
   "name": "python3"
  },
  "language_info": {
   "name": "python",
   "version": "3.11.3"
  },
  "orig_nbformat": 4
 },
 "nbformat": 4,
 "nbformat_minor": 2
}
